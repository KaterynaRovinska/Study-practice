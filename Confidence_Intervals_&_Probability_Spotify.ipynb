{
  "nbformat": 4,
  "nbformat_minor": 0,
  "metadata": {
    "colab": {
      "provenance": [],
      "authorship_tag": "ABX9TyOyU01wZEbJ3Oe7CJczxSTj",
      "include_colab_link": true
    },
    "kernelspec": {
      "name": "python3",
      "display_name": "Python 3"
    },
    "language_info": {
      "name": "python"
    }
  },
  "cells": [
    {
      "cell_type": "markdown",
      "metadata": {
        "id": "view-in-github",
        "colab_type": "text"
      },
      "source": [
        "<a href=\"https://colab.research.google.com/github/KaterynaRovinska/Study-practice/blob/main/Confidence_Intervals_%26_Probability_Spotify.ipynb\" target=\"_parent\"><img src=\"https://colab.research.google.com/assets/colab-badge.svg\" alt=\"Open In Colab\"/></a>"
      ]
    },
    {
      "cell_type": "markdown",
      "source": [
        "# The dataset\n",
        "\n",
        "The dataset contains information about 41,099 unique songs found on the popular music streaming service Spotify. The data describing these songs was collected from the Spotify API and merged with data from the Billboard API. All songs in the dataset were released between the 1960s and the 2010s. Spotify algorithmically generates ratings for track features like tempo, acousticness, valence, etc. \n",
        "\n",
        "**The dataset contains:**\n",
        "\n",
        "10 numerical variables, with different probability measures like danceability, energy or speechiness of the songs\n",
        "6 integer values, as the key or the mode of the songs\n",
        "4 string variables, as the name of the song or the artists\n",
        "\n",
        "**The variables are the following:**\n",
        "\n",
        "track: The Name of the track.\n",
        "\n",
        "artist: The Name of the Artist.\n",
        "\n",
        "uri: The resource identifier for the track.\n",
        "\n",
        "danceability: Danceability describes how suitable a track is for dancing based on a combination of musical elements including tempo, rhythm stability, beat strength, and overall regularity. A value of 0.0 is least danceable and 1.0 is most danceable.\n",
        "\n",
        "energy: Energy is a measure from 0.0 to 1.0 and represents a perceptual measure of intensity and activity. Typically, energetic tracks feel fast, loud, and noisy. For example, death metal has high energy, while a Bach prelude scores low on the scale. Perceptual features contributing to this attribute include dynamic range, perceived loudness, timbre, onset rate, and general entropy.\n",
        "\n",
        "key: The estimated overall key of the track. Integers map to pitches using standard Pitch Class notation. E.g. 0 = C, 1 = C?/D?, 2 = D, and so on. If no key was detected, the value is -1.\n",
        "\n",
        "loudness: The overall loudness of a track in decibels (dB). Loudness values are averaged across the entire track and are useful for comparing relative loudness of tracks. Loudness is the quality of a sound that is the primary psychological correlate of physical strength (amplitude). Values typical range between -60 and 0 db.\n",
        "\n",
        "mode: Mode indicates the modality (major or minor) of a track, the type of scale from which its melodic content is derived. Major is represented by 1 and minor is 0.\n",
        "\n",
        "speechiness: Speechiness detects the presence of spoken words in a track. The more exclusively speech-like the recording (e.g. talk show, audio book, poetry), the closer to 1.0 the attribute value. Values above 0.66 describe tracks that are probably made entirely of spoken words. Values between 0.33 and 0.66 describe tracks that may contain both music and speech, either in sections or layered, including such cases as rap music. Values below 0.33 most likely represent music and other non-speech-like tracks.\n",
        "\n",
        "acousticness: A confidence measure from 0.0 to 1.0 of whether the track is acoustic. 1.0 represents high confidence the track is acoustic. \n",
        "\n",
        "instrumentalness: Predicts whether a track contains no vocals. “Ooh” and “aah” sounds are treated as instrumental in this context. Rap or spoken word tracks are clearly “vocal”. The closer the instrumentalness value is to 1.0, the greater likelihood the track contains no vocal content. Values above 0.5 are intended to represent instrumental tracks, but confidence is higher as the value approaches 1.0. \n",
        "\n",
        "liveness: Detects the presence of an audience in the recording. Higher liveness values represent an increased probability that the track was performed live. A value above 0.8 provides strong likelihood that the track is live.\n",
        "\n",
        "valence: A measure from 0.0 to 1.0 describing the musical positiveness conveyed by a track. Tracks with high valence sound more positive (e.g. happy, cheerful, euphoric), while tracks with low valence sound more negative (e.g. sad, depressed, angry).\n",
        "\n",
        "tempo: The overall estimated tempo of a track in beats per minute (BPM). In musical terminology, tempo is the speed or pace of a given piece and derives directly from the average beat duration.\n",
        "\n",
        "duration_ms: The duration of the track in milliseconds.\n",
        "\n",
        "time_signature: An estimated overall time signature of a track. The time signature (meter) is a notational convention to specify how many beats are in each bar (or measure).\n",
        "\n",
        "chorus_hit: This the the author's best estimate of when the chorus would start for the track. Its the timestamp of the start of the third section of the track. This feature was extracted from the data received by the API call for Audio Analysis of that particular track.\n",
        "\n",
        "sections: The number of sections the particular track has. This feature was extracted from the data received by the API call for Audio Analysis of that particular track.\n",
        "\n",
        "target: The target variable for the track. It can be either '0' or '1'. '1' implies that this song has featured in the weekly list (Issued by Billboards) of Hot-100 tracks in that decade at least once and is therefore a 'hit'. '0' Implies that the track is a 'flop'."
      ],
      "metadata": {
        "id": "MP1QMOw51htv"
      }
    },
    {
      "cell_type": "code",
      "execution_count": null,
      "metadata": {
        "id": "octipxd4G5Fr"
      },
      "outputs": [],
      "source": [
        "# Base\n",
        "import numpy as np\n",
        "import pandas as pd\n",
        "import math\n",
        "from scipy.stats import norm\n",
        "import scipy.stats as stats\n",
        "\n",
        "# Visualization\n",
        "import matplotlib.pyplot as plt\n",
        "import seaborn as sns\n",
        "plt.style.use('ggplot')\n",
        "\n",
        "# Estimation and Models\n",
        "import statsmodels.stats.proportion as smp       # Estimation of proportions\n",
        "import statsmodels.stats.weightstats as smw      # Estimation of the Mean\n",
        "from statsmodels.stats.power import TTestPower   # Power of the Test"
      ]
    },
    {
      "cell_type": "code",
      "source": [
        "from google.colab import drive\n",
        "drive.mount('Kateryna')"
      ],
      "metadata": {
        "colab": {
          "base_uri": "https://localhost:8080/"
        },
        "id": "6zsoRnY-HYvG",
        "outputId": "f35700ee-22c3-45df-ff37-bb5f43cc8ee5"
      },
      "execution_count": null,
      "outputs": [
        {
          "output_type": "stream",
          "name": "stdout",
          "text": [
            "Mounted at Kateryna\n"
          ]
        }
      ]
    },
    {
      "cell_type": "code",
      "source": [
        "music = pd.read_csv('/content/Kateryna/MyDrive/genre_music.csv')"
      ],
      "metadata": {
        "id": "BTMYwnntHgJy"
      },
      "execution_count": null,
      "outputs": []
    },
    {
      "cell_type": "code",
      "source": [
        "music.head(5)"
      ],
      "metadata": {
        "colab": {
          "base_uri": "https://localhost:8080/",
          "height": 391
        },
        "id": "nxONDyIvKnQm",
        "outputId": "16f91c10-8a38-4a2d-f709-d4eb35c297fb"
      },
      "execution_count": null,
      "outputs": [
        {
          "output_type": "execute_result",
          "data": {
            "text/plain": [
              "                   track            artist  danceability  energy  key  \\\n",
              "0  Jealous Kind Of Fella     Garland Green         0.417   0.620    3   \n",
              "1          Initials B.B.  Serge Gainsbourg         0.498   0.505    3   \n",
              "2           Melody Twist       Lord Melody         0.657   0.649    5   \n",
              "3          Mi Bomba Sonó        Celia Cruz         0.590   0.545    7   \n",
              "4            Uravu Solla       P. Susheela         0.515   0.765   11   \n",
              "\n",
              "   loudness  mode  speechiness  acousticness  instrumentalness  liveness  \\\n",
              "0    -7.727     1       0.0403         0.490          0.000000    0.0779   \n",
              "1   -12.475     1       0.0337         0.018          0.107000    0.1760   \n",
              "2   -13.392     1       0.0380         0.846          0.000004    0.1190   \n",
              "3   -12.058     0       0.1040         0.706          0.024600    0.0610   \n",
              "4    -3.515     0       0.1240         0.857          0.000872    0.2130   \n",
              "\n",
              "   valence    tempo  duration_s  time_signature  chorus_hit  sections  \\\n",
              "0    0.845  185.655     173.533               3    32.94975         9   \n",
              "1    0.797  101.801     213.613               4    48.82510        10   \n",
              "2    0.908  115.940     223.960               4    37.22663        12   \n",
              "3    0.967  105.592     157.907               4    24.75484         8   \n",
              "4    0.906  114.617     245.600               4    21.79874        14   \n",
              "\n",
              "   popularity decade genre  \n",
              "0           1    60s   edm  \n",
              "1           0    60s   pop  \n",
              "2           0    60s   pop  \n",
              "3           0    60s   pop  \n",
              "4           0    60s   r&b  "
            ],
            "text/html": [
              "\n",
              "  <div id=\"df-c0f676ab-4e85-4429-9dfe-db99838c2f45\">\n",
              "    <div class=\"colab-df-container\">\n",
              "      <div>\n",
              "<style scoped>\n",
              "    .dataframe tbody tr th:only-of-type {\n",
              "        vertical-align: middle;\n",
              "    }\n",
              "\n",
              "    .dataframe tbody tr th {\n",
              "        vertical-align: top;\n",
              "    }\n",
              "\n",
              "    .dataframe thead th {\n",
              "        text-align: right;\n",
              "    }\n",
              "</style>\n",
              "<table border=\"1\" class=\"dataframe\">\n",
              "  <thead>\n",
              "    <tr style=\"text-align: right;\">\n",
              "      <th></th>\n",
              "      <th>track</th>\n",
              "      <th>artist</th>\n",
              "      <th>danceability</th>\n",
              "      <th>energy</th>\n",
              "      <th>key</th>\n",
              "      <th>loudness</th>\n",
              "      <th>mode</th>\n",
              "      <th>speechiness</th>\n",
              "      <th>acousticness</th>\n",
              "      <th>instrumentalness</th>\n",
              "      <th>liveness</th>\n",
              "      <th>valence</th>\n",
              "      <th>tempo</th>\n",
              "      <th>duration_s</th>\n",
              "      <th>time_signature</th>\n",
              "      <th>chorus_hit</th>\n",
              "      <th>sections</th>\n",
              "      <th>popularity</th>\n",
              "      <th>decade</th>\n",
              "      <th>genre</th>\n",
              "    </tr>\n",
              "  </thead>\n",
              "  <tbody>\n",
              "    <tr>\n",
              "      <th>0</th>\n",
              "      <td>Jealous Kind Of Fella</td>\n",
              "      <td>Garland Green</td>\n",
              "      <td>0.417</td>\n",
              "      <td>0.620</td>\n",
              "      <td>3</td>\n",
              "      <td>-7.727</td>\n",
              "      <td>1</td>\n",
              "      <td>0.0403</td>\n",
              "      <td>0.490</td>\n",
              "      <td>0.000000</td>\n",
              "      <td>0.0779</td>\n",
              "      <td>0.845</td>\n",
              "      <td>185.655</td>\n",
              "      <td>173.533</td>\n",
              "      <td>3</td>\n",
              "      <td>32.94975</td>\n",
              "      <td>9</td>\n",
              "      <td>1</td>\n",
              "      <td>60s</td>\n",
              "      <td>edm</td>\n",
              "    </tr>\n",
              "    <tr>\n",
              "      <th>1</th>\n",
              "      <td>Initials B.B.</td>\n",
              "      <td>Serge Gainsbourg</td>\n",
              "      <td>0.498</td>\n",
              "      <td>0.505</td>\n",
              "      <td>3</td>\n",
              "      <td>-12.475</td>\n",
              "      <td>1</td>\n",
              "      <td>0.0337</td>\n",
              "      <td>0.018</td>\n",
              "      <td>0.107000</td>\n",
              "      <td>0.1760</td>\n",
              "      <td>0.797</td>\n",
              "      <td>101.801</td>\n",
              "      <td>213.613</td>\n",
              "      <td>4</td>\n",
              "      <td>48.82510</td>\n",
              "      <td>10</td>\n",
              "      <td>0</td>\n",
              "      <td>60s</td>\n",
              "      <td>pop</td>\n",
              "    </tr>\n",
              "    <tr>\n",
              "      <th>2</th>\n",
              "      <td>Melody Twist</td>\n",
              "      <td>Lord Melody</td>\n",
              "      <td>0.657</td>\n",
              "      <td>0.649</td>\n",
              "      <td>5</td>\n",
              "      <td>-13.392</td>\n",
              "      <td>1</td>\n",
              "      <td>0.0380</td>\n",
              "      <td>0.846</td>\n",
              "      <td>0.000004</td>\n",
              "      <td>0.1190</td>\n",
              "      <td>0.908</td>\n",
              "      <td>115.940</td>\n",
              "      <td>223.960</td>\n",
              "      <td>4</td>\n",
              "      <td>37.22663</td>\n",
              "      <td>12</td>\n",
              "      <td>0</td>\n",
              "      <td>60s</td>\n",
              "      <td>pop</td>\n",
              "    </tr>\n",
              "    <tr>\n",
              "      <th>3</th>\n",
              "      <td>Mi Bomba Sonó</td>\n",
              "      <td>Celia Cruz</td>\n",
              "      <td>0.590</td>\n",
              "      <td>0.545</td>\n",
              "      <td>7</td>\n",
              "      <td>-12.058</td>\n",
              "      <td>0</td>\n",
              "      <td>0.1040</td>\n",
              "      <td>0.706</td>\n",
              "      <td>0.024600</td>\n",
              "      <td>0.0610</td>\n",
              "      <td>0.967</td>\n",
              "      <td>105.592</td>\n",
              "      <td>157.907</td>\n",
              "      <td>4</td>\n",
              "      <td>24.75484</td>\n",
              "      <td>8</td>\n",
              "      <td>0</td>\n",
              "      <td>60s</td>\n",
              "      <td>pop</td>\n",
              "    </tr>\n",
              "    <tr>\n",
              "      <th>4</th>\n",
              "      <td>Uravu Solla</td>\n",
              "      <td>P. Susheela</td>\n",
              "      <td>0.515</td>\n",
              "      <td>0.765</td>\n",
              "      <td>11</td>\n",
              "      <td>-3.515</td>\n",
              "      <td>0</td>\n",
              "      <td>0.1240</td>\n",
              "      <td>0.857</td>\n",
              "      <td>0.000872</td>\n",
              "      <td>0.2130</td>\n",
              "      <td>0.906</td>\n",
              "      <td>114.617</td>\n",
              "      <td>245.600</td>\n",
              "      <td>4</td>\n",
              "      <td>21.79874</td>\n",
              "      <td>14</td>\n",
              "      <td>0</td>\n",
              "      <td>60s</td>\n",
              "      <td>r&amp;b</td>\n",
              "    </tr>\n",
              "  </tbody>\n",
              "</table>\n",
              "</div>\n",
              "      <button class=\"colab-df-convert\" onclick=\"convertToInteractive('df-c0f676ab-4e85-4429-9dfe-db99838c2f45')\"\n",
              "              title=\"Convert this dataframe to an interactive table.\"\n",
              "              style=\"display:none;\">\n",
              "        \n",
              "  <svg xmlns=\"http://www.w3.org/2000/svg\" height=\"24px\"viewBox=\"0 0 24 24\"\n",
              "       width=\"24px\">\n",
              "    <path d=\"M0 0h24v24H0V0z\" fill=\"none\"/>\n",
              "    <path d=\"M18.56 5.44l.94 2.06.94-2.06 2.06-.94-2.06-.94-.94-2.06-.94 2.06-2.06.94zm-11 1L8.5 8.5l.94-2.06 2.06-.94-2.06-.94L8.5 2.5l-.94 2.06-2.06.94zm10 10l.94 2.06.94-2.06 2.06-.94-2.06-.94-.94-2.06-.94 2.06-2.06.94z\"/><path d=\"M17.41 7.96l-1.37-1.37c-.4-.4-.92-.59-1.43-.59-.52 0-1.04.2-1.43.59L10.3 9.45l-7.72 7.72c-.78.78-.78 2.05 0 2.83L4 21.41c.39.39.9.59 1.41.59.51 0 1.02-.2 1.41-.59l7.78-7.78 2.81-2.81c.8-.78.8-2.07 0-2.86zM5.41 20L4 18.59l7.72-7.72 1.47 1.35L5.41 20z\"/>\n",
              "  </svg>\n",
              "      </button>\n",
              "      \n",
              "  <style>\n",
              "    .colab-df-container {\n",
              "      display:flex;\n",
              "      flex-wrap:wrap;\n",
              "      gap: 12px;\n",
              "    }\n",
              "\n",
              "    .colab-df-convert {\n",
              "      background-color: #E8F0FE;\n",
              "      border: none;\n",
              "      border-radius: 50%;\n",
              "      cursor: pointer;\n",
              "      display: none;\n",
              "      fill: #1967D2;\n",
              "      height: 32px;\n",
              "      padding: 0 0 0 0;\n",
              "      width: 32px;\n",
              "    }\n",
              "\n",
              "    .colab-df-convert:hover {\n",
              "      background-color: #E2EBFA;\n",
              "      box-shadow: 0px 1px 2px rgba(60, 64, 67, 0.3), 0px 1px 3px 1px rgba(60, 64, 67, 0.15);\n",
              "      fill: #174EA6;\n",
              "    }\n",
              "\n",
              "    [theme=dark] .colab-df-convert {\n",
              "      background-color: #3B4455;\n",
              "      fill: #D2E3FC;\n",
              "    }\n",
              "\n",
              "    [theme=dark] .colab-df-convert:hover {\n",
              "      background-color: #434B5C;\n",
              "      box-shadow: 0px 1px 3px 1px rgba(0, 0, 0, 0.15);\n",
              "      filter: drop-shadow(0px 1px 2px rgba(0, 0, 0, 0.3));\n",
              "      fill: #FFFFFF;\n",
              "    }\n",
              "  </style>\n",
              "\n",
              "      <script>\n",
              "        const buttonEl =\n",
              "          document.querySelector('#df-c0f676ab-4e85-4429-9dfe-db99838c2f45 button.colab-df-convert');\n",
              "        buttonEl.style.display =\n",
              "          google.colab.kernel.accessAllowed ? 'block' : 'none';\n",
              "\n",
              "        async function convertToInteractive(key) {\n",
              "          const element = document.querySelector('#df-c0f676ab-4e85-4429-9dfe-db99838c2f45');\n",
              "          const dataTable =\n",
              "            await google.colab.kernel.invokeFunction('convertToInteractive',\n",
              "                                                     [key], {});\n",
              "          if (!dataTable) return;\n",
              "\n",
              "          const docLinkHtml = 'Like what you see? Visit the ' +\n",
              "            '<a target=\"_blank\" href=https://colab.research.google.com/notebooks/data_table.ipynb>data table notebook</a>'\n",
              "            + ' to learn more about interactive tables.';\n",
              "          element.innerHTML = '';\n",
              "          dataTable['output_type'] = 'display_data';\n",
              "          await google.colab.output.renderOutput(dataTable, element);\n",
              "          const docLink = document.createElement('div');\n",
              "          docLink.innerHTML = docLinkHtml;\n",
              "          element.appendChild(docLink);\n",
              "        }\n",
              "      </script>\n",
              "    </div>\n",
              "  </div>\n",
              "  "
            ]
          },
          "metadata": {},
          "execution_count": 6
        }
      ]
    },
    {
      "cell_type": "code",
      "source": [
        "music.shape"
      ],
      "metadata": {
        "colab": {
          "base_uri": "https://localhost:8080/"
        },
        "id": "gCUCw_bnLB84",
        "outputId": "fc79efe1-2799-4740-fe16-e84376a558cc"
      },
      "execution_count": null,
      "outputs": [
        {
          "output_type": "execute_result",
          "data": {
            "text/plain": [
              "(41099, 20)"
            ]
          },
          "metadata": {},
          "execution_count": 9
        }
      ]
    },
    {
      "cell_type": "markdown",
      "source": [
        "# Liveness"
      ],
      "metadata": {
        "id": "GRaGMU_TXynr"
      }
    },
    {
      "cell_type": "markdown",
      "source": [
        "Considering the sample size in each decade, we can use the normal approximation\n",
        "\n",
        "The sample size for each decade is large enough (at least 30)."
      ],
      "metadata": {
        "id": "KYG7kpfcH7WW"
      }
    },
    {
      "cell_type": "code",
      "source": [
        "# Group the data by decade and count the number of songs in each decade\n",
        "sample_sizes = music.groupby('decade')['track'].count()\n",
        "\n",
        "# Print the sample sizes for each decade\n",
        "print(sample_sizes)"
      ],
      "metadata": {
        "colab": {
          "base_uri": "https://localhost:8080/"
        },
        "id": "WA7QJYB6Kk_i",
        "outputId": "d21eae16-0f84-4334-d9f7-349840bc7798"
      },
      "execution_count": null,
      "outputs": [
        {
          "output_type": "stream",
          "name": "stdout",
          "text": [
            "decade\n",
            "00s    5871\n",
            "10s    6396\n",
            "60s    8642\n",
            "70s    7764\n",
            "80s    6907\n",
            "90s    5519\n",
            "Name: track, dtype: int64\n"
          ]
        }
      ]
    },
    {
      "cell_type": "markdown",
      "source": [
        "**Finding 98% Confidence Intervals of the `liveness` of all the songs per decade.**\n"
      ],
      "metadata": {
        "id": "rWPEk7acTG2f"
      }
    },
    {
      "cell_type": "markdown",
      "source": [
        "To calculate the 98% confidence intervals of the liveness of all songs per decade, we would need to have the sample mean and standard deviation for each decade.\n",
        "\n",
        "Formula:\n",
        "\n",
        "X̄ ± Z×σ/√n\n",
        "\n",
        "SE =σ/√n\n",
        "\n",
        "Z-value for the chosen confidence level,\n",
        "X̄ is the sample mean,\n",
        "σ is the standard deviation\n",
        "n is the sample size."
      ],
      "metadata": {
        "id": "hVmHJe6FTaXb"
      }
    },
    {
      "cell_type": "code",
      "source": [
        "# Data -----------------------\n",
        "alpha = 0.02\n",
        "\n",
        "# Decades --------------------\n",
        "decades = ['00s', '10s', '60s', '70s', '80s', '90s']\n",
        "\n",
        "# Confidence Intervals -------\n",
        "for decade in decades:\n",
        "  # Desccriptive ---------------\n",
        "  liveness = smw.DescrStatsW(music[music['decade'] == decade]['liveness'])\n",
        "\n",
        "  if liveness.nobs > 30:\n",
        "    print(f'Using the Normal Approximation for {decade}')\n",
        "    low, up = liveness.zconfint_mean(alpha)\n",
        "  else:\n",
        "    print(f'Using the t-Distribution for {decade}')\n",
        "    low, up = liveness.tconfint_mean(alpha)\n",
        "\n",
        "  print(f'The {1-alpha:2.0%} CI for the liveness for all songs in {decade} is\\\n",
        "  [{low:4.4f}, {up:4.4f}]')\n"
      ],
      "metadata": {
        "colab": {
          "base_uri": "https://localhost:8080/"
        },
        "id": "kQPN8NmptYSy",
        "outputId": "69f0fe62-6c11-41ed-83e1-5188dd55a115"
      },
      "execution_count": null,
      "outputs": [
        {
          "output_type": "stream",
          "name": "stdout",
          "text": [
            "Using the Normal Approximation for 00s\n",
            "The 98% CI for the liveness for all songs in 00s is  [0.1912, 0.2010]\n",
            "Using the Normal Approximation for 10s\n",
            "The 98% CI for the liveness for all songs in 10s is  [0.1919, 0.2016]\n",
            "Using the Normal Approximation for 60s\n",
            "The 98% CI for the liveness for all songs in 60s is  [0.2093, 0.2178]\n",
            "Using the Normal Approximation for 70s\n",
            "The 98% CI for the liveness for all songs in 70s is  [0.1950, 0.2046]\n",
            "Using the Normal Approximation for 80s\n",
            "The 98% CI for the liveness for all songs in 80s is  [0.1959, 0.2061]\n",
            "Using the Normal Approximation for 90s\n",
            "The 98% CI for the liveness for all songs in 90s is  [0.1918, 0.2027]\n"
          ]
        }
      ]
    },
    {
      "cell_type": "markdown",
      "source": [
        "# Danceability"
      ],
      "metadata": {
        "id": "G2BGEI3PNOhR"
      }
    },
    {
      "cell_type": "markdown",
      "source": [
        "It is usually assumed that songs written in the minor modality are sadder songs than those written in the major modality. Let's analyze this from the perspective of the danceability of the songs."
      ],
      "metadata": {
        "id": "Jv31Ai81NSxG"
      }
    },
    {
      "cell_type": "markdown",
      "source": [
        "**Finding the 99% confidence intervals of the danceability of all the songs with respect to their mode**\n",
        "\n",
        "X̄ ± Z×σ/√n\n",
        "\n",
        "SE =σ/√n\n",
        "\n",
        "Z-value for the 99% confidence level, X̄ is the mean for modes, σ is the standard deviation of modes, n is the sample size."
      ],
      "metadata": {
        "id": "zjryVq36eeOP"
      }
    },
    {
      "cell_type": "code",
      "source": [
        "# Data MAJOR MODE -----------------------\n",
        "alpha = 0.01\n",
        "\n",
        "# Desccriptive ---------------\n",
        "danceability1 = smw.DescrStatsW(music[music['mode'] == 1]['danceability'])\n",
        "\n",
        "# Confidence Intervals -------\n",
        "if danceability1.nobs > 30:\n",
        "  print('Using the Normal Approximation')\n",
        "  low, up = danceability1.zconfint_mean(alpha)\n",
        "else:\n",
        "  print('Using the t-Distribution')\n",
        "  low, up = danceability1.tconfint_mean(alpha)\n",
        "\n",
        "print(f'The {1-alpha:1.0%} CI for the danceability with regards to major mode is \\\n",
        "[{low}, {up}]')\n",
        "\n",
        "\n",
        "# Data MINOR MODE-----------------------\n",
        "alpha = 0.01\n",
        "\n",
        "# Desccriptive ---------------\n",
        "danceability0 = smw.DescrStatsW(music[music['mode'] == 0]['danceability'])\n",
        "\n",
        "# Confidence Intervals -------\n",
        "if danceability0.nobs > 30:\n",
        "  print('Using the Normal Approximation')\n",
        "  low, up = danceability0.zconfint_mean(alpha)\n",
        "else:\n",
        "  print('Using the t-Distribution')\n",
        "  low, up = danceability0.tconfint_mean(alpha)\n",
        "\n",
        "print(f'The {1-alpha:1.0%} CI for the danceability with regards to minor mode is \\\n",
        "[{low}, {up}]')\n"
      ],
      "metadata": {
        "colab": {
          "base_uri": "https://localhost:8080/"
        },
        "id": "qKXN5SkJSSdS",
        "outputId": "b8babbb9-f958-40a3-8555-14c54bb79995"
      },
      "execution_count": null,
      "outputs": [
        {
          "output_type": "stream",
          "name": "stdout",
          "text": [
            "Using the Normal Approximation\n",
            "The 99% CI for the danceability with regards to major mode is [0.5331865426912457, 0.5384368702995959]\n",
            "Using the Normal Approximation\n",
            "The 99% CI for the danceability with regards to minor mode is [0.5440791010214676, 0.5527945698244303]\n"
          ]
        }
      ]
    },
    {
      "cell_type": "markdown",
      "source": [
        "The confidence intervals for minor and major mode danceability suggest that the difference in danceability between the two modes is relatively small. Based on this analysis, it is unlikely that the minor modality is inherently sadder than the major modality simply because minor mode songs are less danceable."
      ],
      "metadata": {
        "id": "-RKgoWC0qDUu"
      }
    },
    {
      "cell_type": "markdown",
      "source": [
        "# Tempo"
      ],
      "metadata": {
        "id": "esaQ0xCrqmFx"
      }
    },
    {
      "cell_type": "markdown",
      "source": [
        "Finding p-values of the tests for each decade provided H0 = mean tempo <=120 and H1 = mean tempo is greater than 120"
      ],
      "metadata": {
        "id": "bXx9_F47qvwj"
      }
    },
    {
      "cell_type": "code",
      "source": [
        "# Data -------------------------------------\n",
        "decades = ['00s', '10s', '60s', '70s', '80s', '90s']\n",
        "alpha = 0.05\n",
        "mu0 = 120\n",
        "\n",
        "# Test -------------------------------------\n",
        "for decade in decades:\n",
        "    tempo = smw.DescrStatsW(music[music['decade'] == decade]['tempo'])\n",
        "    if tempo.nobs > 30:\n",
        "        print(f'{decade}: Using the Normal approximation')\n",
        "        zstat, pval = tempo.ztest_mean(mu0, alternative='larger')\n",
        "        print(f'Statistic: {zstat:4.4f}')\n",
        "    else:\n",
        "        print(f'{decade}: Using the t-distribution')\n",
        "        tstat, pval, dof = tempo.ttest_mean(mu0, alternative='larger')\n",
        "        print(f'Statistic: {tstat:4.4f}')\n",
        "\n",
        "    print(f'Significance Level: {alpha:0.05}')\n",
        "    print(f'p-value: {pval:4.4%}')\n",
        "    print('Reject H0' if pval < alpha else 'Fail to Reject H0')\n",
        "    print('------------------------------------------------')"
      ],
      "metadata": {
        "colab": {
          "base_uri": "https://localhost:8080/"
        },
        "id": "Jds9gPWpGtDM",
        "outputId": "e409f21d-aff3-445c-bd55-9d35512dac1a"
      },
      "execution_count": null,
      "outputs": [
        {
          "output_type": "stream",
          "name": "stdout",
          "text": [
            "00s: Using the Normal approximation\n",
            "Statistic: 4.0709\n",
            "Significance Level: 0.05\n",
            "p-value: 0.0023%\n",
            "Reject H0\n",
            "------------------------------------------------\n",
            "10s: Using the Normal approximation\n",
            "Statistic: 6.3015\n",
            "Significance Level: 0.05\n",
            "p-value: 0.0000%\n",
            "Reject H0\n",
            "------------------------------------------------\n",
            "60s: Using the Normal approximation\n",
            "Statistic: -15.5136\n",
            "Significance Level: 0.05\n",
            "p-value: 100.0000%\n",
            "Fail to Reject H0\n",
            "------------------------------------------------\n",
            "70s: Using the Normal approximation\n",
            "Statistic: -3.0769\n",
            "Significance Level: 0.05\n",
            "p-value: 99.8954%\n",
            "Fail to Reject H0\n",
            "------------------------------------------------\n",
            "80s: Using the Normal approximation\n",
            "Statistic: 2.0046\n",
            "Significance Level: 0.05\n",
            "p-value: 2.2505%\n",
            "Reject H0\n",
            "------------------------------------------------\n",
            "90s: Using the Normal approximation\n",
            "Statistic: -2.9323\n",
            "Significance Level: 0.05\n",
            "p-value: 99.8318%\n",
            "Fail to Reject H0\n",
            "------------------------------------------------\n"
          ]
        }
      ]
    },
    {
      "cell_type": "markdown",
      "source": [
        "Considering just 10s decade and suppose that a relevant case is when the everage tempo of a decade is 121 bpm\n",
        "\n",
        "We are looking to find:\n",
        "* The probability that you may detect that tempo of 121 bpm if that was truly the case\n",
        "* The probabilitie of type II error\n",
        "* The sample size needed to detect this tempo with a probability of 99.99% and significance level of 0.01% "
      ],
      "metadata": {
        "id": "kRC-tJzdHEtO"
      }
    },
    {
      "cell_type": "markdown",
      "source": [
        "The decision scheme now becomes\n",
        "\n",
        "H0:{μ=120},H1:{μ≠120}"
      ],
      "metadata": {
        "id": "3JKED2gxX49h"
      }
    },
    {
      "cell_type": "code",
      "source": [
        "# Power Object ----------------------------------\n",
        "pwr = TTestPower()\n",
        "dec_sub = smw.DescrStatsW(music[music['decade'] == '10s']['tempo'])\n",
        "\n",
        "\n",
        "# Data ------------------------------------------\n",
        "mu0 = 120\n",
        "mu1 = 121\n",
        "alpha = 0.0001\n",
        "nobs = dec_sub.nobs\n",
        "std = dec_sub.std\n",
        "effectsize = (mu0 - mu1)/std \n",
        "alt = 'two-sided'\n",
        "\n",
        "# Power -----------------------------------------\n",
        "power = pwr.solve_power(effect_size = effectsize,\n",
        "                nobs = nobs,\n",
        "                alpha = alpha,\n",
        "                alternative = alt)\n",
        "\n",
        "print(f\"The probability of detecting a tempo of {mu1} bpm if it is truly the case is {power:.2%}\")"
      ],
      "metadata": {
        "colab": {
          "base_uri": "https://localhost:8080/"
        },
        "id": "zTVfwbjtnMlb",
        "outputId": "6f7620cf-8752-4dd0-c0c7-e74eb482317c"
      },
      "execution_count": null,
      "outputs": [
        {
          "output_type": "stream",
          "name": "stdout",
          "text": [
            "The probability of detecting a tempo of 121 bpm if it is truly the case is 11.26%\n"
          ]
        }
      ]
    },
    {
      "cell_type": "markdown",
      "source": [
        "The probability of making a type II error is the probability of failing to reject the null hypothesis when the true mean is actually different from the null hypothesis value (i.e., μ1 ≠ μ0)."
      ],
      "metadata": {
        "id": "D-eh1ae0iZ35"
      }
    },
    {
      "cell_type": "code",
      "source": [
        "# Parameters\n",
        "mu0 = 120\n",
        "mu1 = 121\n",
        "alpha = 0.0001\n",
        "nobs = dec_sub.nobs\n",
        "std = dec_sub.std\n",
        "effectsize = (mu1 - mu0) / std \n",
        "alt = 'two-sided'\n",
        "\n",
        "# Power calculation\n",
        "power = pwr.solve_power(effect_size=effectsize, nobs=nobs, alpha=alpha, alternative=alt)\n",
        "\n",
        "# Type II error probability\n",
        "beta = 1 - power\n",
        "print(f\"The probability of making a type II error is {beta:.2%}\")\n"
      ],
      "metadata": {
        "colab": {
          "base_uri": "https://localhost:8080/"
        },
        "id": "DjT_UAd4iYy_",
        "outputId": "469ea4d9-e5a1-4c34-f4d9-7fbf588e2666"
      },
      "execution_count": null,
      "outputs": [
        {
          "output_type": "stream",
          "name": "stdout",
          "text": [
            "The probability of making a type II error is 88.74%\n"
          ]
        }
      ]
    },
    {
      "cell_type": "code",
      "source": [
        "# Parameters\n",
        "mu0 = 120\n",
        "mu1 = 121\n",
        "alpha = 0.0001\n",
        "power = 0.9999\n",
        "std = dec_sub.std\n",
        "effectsize = (mu1 - mu0) / std\n",
        "alt = 'two-sided'\n",
        "\n",
        "# Sample size calculation\n",
        "nobs = pwr.solve_power(effect_size=effectsize, alpha=alpha, power=power, alternative=alt)\n",
        "print(f\"The sample size required to detect a tempo of {mu1} bpm with a power of {power:.2%} and a significance level of {alpha} is {nobs:4.0f}\")\n"
      ],
      "metadata": {
        "colab": {
          "base_uri": "https://localhost:8080/"
        },
        "id": "FK1Eh-RGjDPc",
        "outputId": "632af818-ee4b-4b7e-9251-f49251d7373a"
      },
      "execution_count": null,
      "outputs": [
        {
          "output_type": "stream",
          "name": "stdout",
          "text": [
            "The sample size required to detect a tempo of 121 bpm with a power of 99.99% and a significance level of 0.0001 is 51602\n"
          ]
        },
        {
          "output_type": "stream",
          "name": "stderr",
          "text": [
            "/usr/local/lib/python3.9/dist-packages/scipy/stats/_continuous_distns.py:6832: RuntimeWarning: divide by zero encountered in _nct_sf\n",
            "  return np.clip(_boost._nct_sf(x, df, nc), 0, 1)\n",
            "/usr/local/lib/python3.9/dist-packages/scipy/stats/_continuous_distns.py:6826: RuntimeWarning: divide by zero encountered in _nct_cdf\n",
            "  return np.clip(_boost._nct_cdf(x, df, nc), 0, 1)\n",
            "/usr/local/lib/python3.9/dist-packages/scipy/stats/_continuous_distns.py:6832: RuntimeWarning: invalid value encountered in _nct_sf\n",
            "  return np.clip(_boost._nct_sf(x, df, nc), 0, 1)\n",
            "/usr/local/lib/python3.9/dist-packages/scipy/stats/_continuous_distns.py:6826: RuntimeWarning: invalid value encountered in _nct_cdf\n",
            "  return np.clip(_boost._nct_cdf(x, df, nc), 0, 1)\n"
          ]
        }
      ]
    }
  ]
}