{
  "nbformat": 4,
  "nbformat_minor": 0,
  "metadata": {
    "colab": {
      "provenance": [],
      "authorship_tag": "ABX9TyPDvqV7jx4ZX3YcKQlAwFkC",
      "include_colab_link": true
    },
    "kernelspec": {
      "name": "python3",
      "display_name": "Python 3"
    },
    "language_info": {
      "name": "python"
    }
  },
  "cells": [
    {
      "cell_type": "markdown",
      "metadata": {
        "id": "view-in-github",
        "colab_type": "text"
      },
      "source": [
        "<a href=\"https://colab.research.google.com/github/KaterynaRovinska/Study-practice/blob/main/EDA_%26_Probability.ipynb\" target=\"_parent\"><img src=\"https://colab.research.google.com/assets/colab-badge.svg\" alt=\"Open In Colab\"/></a>"
      ]
    },
    {
      "cell_type": "markdown",
      "source": [
        "# The Dataset\n",
        "\n",
        "\n",
        "This exam is about EDA and Probability and for that we will use the Pisa2018.csv dataset, which is a subset for 4 countries of the 2018 PISA report. The country codes are:\n",
        "\n",
        "France, code \"FRA\", \n",
        "Germany, code \"DEU\", \n",
        "Italy, code \"ITA\", \n",
        "Spain, code \"ESP\"\n",
        "\n",
        "The OECD Programme for International Student Assessment (PISA) examines what students know in reading, mathematics and science. This dataset provides a detailed examination of student performance in mathematics and science. Below we include a short description of the variables\n",
        "\n",
        "\n",
        "CNT: Country where the student takes the test\n",
        "\n",
        "Gender: binary variable that takes value 1 for females and 0 for males\n",
        "\n",
        "Mothereduc: The level of education on the student's mother. This variable is discrete. A higher value implies a higher level of education.\n",
        "\n",
        "HmwPC: binary variable that takes the value 1 if the student has a computer at home, and 0 otherwise\n",
        "\n",
        "Books: Binary variable that takes value 1 if the student has books at home, and 0 otherwise\n",
        "\n",
        "Cars: number of cars at the student's home.\n",
        "\n",
        "IMM: binary variable that takes value 1 if the student was born in the same coutry where he/she took the test, 0 otherwise\n",
        "\n",
        "LEARNMINWEEK: student's learning time in a week (in minutes)\n",
        "\n",
        "ESCS: A continuous variable that captures the social economic and cultural status of the student. A higher value implies a higher status\n",
        "\n",
        "EMOSUPS: A continuous variable that captures the student's emotional support from parents. A higher value implies more emotional support.\n",
        "\n",
        "PV10MATH: A continuous variable that captures the grade of the student in the Math test\n",
        "\n",
        "PV10SCIE: A continuous variable that captures the grade of the student in the Science test"
      ],
      "metadata": {
        "id": "5iohdMtVQQft"
      }
    },
    {
      "cell_type": "code",
      "execution_count": 1,
      "metadata": {
        "id": "jc2XfnStfWQx"
      },
      "outputs": [],
      "source": [
        "import numpy as np\n",
        "import pandas as pd\n",
        "\n",
        "import seaborn as sns\n",
        "import matplotlib.pyplot as plt\n",
        "plt.style.use('ggplot')"
      ]
    },
    {
      "cell_type": "code",
      "source": [
        "from google.colab import drive\n",
        "drive.mount('Kateryna')"
      ],
      "metadata": {
        "colab": {
          "base_uri": "https://localhost:8080/"
        },
        "id": "vtBBoVaYo7c7",
        "outputId": "bbb11084-5a5f-48a5-d08d-e81142b74878"
      },
      "execution_count": 2,
      "outputs": [
        {
          "output_type": "stream",
          "name": "stdout",
          "text": [
            "Mounted at Kateryna\n"
          ]
        }
      ]
    },
    {
      "cell_type": "code",
      "source": [
        "pisa = pd.read_csv('/content/Kateryna/MyDrive/IEXL - Feb PT 2023 Rovinska/Data Sets/Pisa2018.csv')\n",
        "pisa.head(3)"
      ],
      "metadata": {
        "colab": {
          "base_uri": "https://localhost:8080/",
          "height": 143
        },
        "id": "bLezbmKJpC61",
        "outputId": "9a5de494-b2a0-45c1-c7ee-0621a412a4ae"
      },
      "execution_count": 3,
      "outputs": [
        {
          "output_type": "execute_result",
          "data": {
            "text/plain": [
              "   Unnamed: 0  CNT  Gender  Mothereduc  HmwPC  Books  Cars  IMM  LEARNMINWEEK  \\\n",
              "0           1  FRA       1           2      1      1     2    1          2280   \n",
              "1           2  FRA       0           2      1      1     3    1          1540   \n",
              "2           3  FRA       1           2      1      1     2    1          2025   \n",
              "\n",
              "     ESCS  EMOSUPS  PV10MATH  PV10SCIE  \n",
              "0  5.6608   1.3649   359.898   472.360  \n",
              "1  5.0190   3.4518   434.867   397.313  \n",
              "2  6.5320   3.6637   581.459   632.093  "
            ],
            "text/html": [
              "\n",
              "  <div id=\"df-c8b7c24f-01fe-4103-a33e-3ae5c58f717d\">\n",
              "    <div class=\"colab-df-container\">\n",
              "      <div>\n",
              "<style scoped>\n",
              "    .dataframe tbody tr th:only-of-type {\n",
              "        vertical-align: middle;\n",
              "    }\n",
              "\n",
              "    .dataframe tbody tr th {\n",
              "        vertical-align: top;\n",
              "    }\n",
              "\n",
              "    .dataframe thead th {\n",
              "        text-align: right;\n",
              "    }\n",
              "</style>\n",
              "<table border=\"1\" class=\"dataframe\">\n",
              "  <thead>\n",
              "    <tr style=\"text-align: right;\">\n",
              "      <th></th>\n",
              "      <th>Unnamed: 0</th>\n",
              "      <th>CNT</th>\n",
              "      <th>Gender</th>\n",
              "      <th>Mothereduc</th>\n",
              "      <th>HmwPC</th>\n",
              "      <th>Books</th>\n",
              "      <th>Cars</th>\n",
              "      <th>IMM</th>\n",
              "      <th>LEARNMINWEEK</th>\n",
              "      <th>ESCS</th>\n",
              "      <th>EMOSUPS</th>\n",
              "      <th>PV10MATH</th>\n",
              "      <th>PV10SCIE</th>\n",
              "    </tr>\n",
              "  </thead>\n",
              "  <tbody>\n",
              "    <tr>\n",
              "      <th>0</th>\n",
              "      <td>1</td>\n",
              "      <td>FRA</td>\n",
              "      <td>1</td>\n",
              "      <td>2</td>\n",
              "      <td>1</td>\n",
              "      <td>1</td>\n",
              "      <td>2</td>\n",
              "      <td>1</td>\n",
              "      <td>2280</td>\n",
              "      <td>5.6608</td>\n",
              "      <td>1.3649</td>\n",
              "      <td>359.898</td>\n",
              "      <td>472.360</td>\n",
              "    </tr>\n",
              "    <tr>\n",
              "      <th>1</th>\n",
              "      <td>2</td>\n",
              "      <td>FRA</td>\n",
              "      <td>0</td>\n",
              "      <td>2</td>\n",
              "      <td>1</td>\n",
              "      <td>1</td>\n",
              "      <td>3</td>\n",
              "      <td>1</td>\n",
              "      <td>1540</td>\n",
              "      <td>5.0190</td>\n",
              "      <td>3.4518</td>\n",
              "      <td>434.867</td>\n",
              "      <td>397.313</td>\n",
              "    </tr>\n",
              "    <tr>\n",
              "      <th>2</th>\n",
              "      <td>3</td>\n",
              "      <td>FRA</td>\n",
              "      <td>1</td>\n",
              "      <td>2</td>\n",
              "      <td>1</td>\n",
              "      <td>1</td>\n",
              "      <td>2</td>\n",
              "      <td>1</td>\n",
              "      <td>2025</td>\n",
              "      <td>6.5320</td>\n",
              "      <td>3.6637</td>\n",
              "      <td>581.459</td>\n",
              "      <td>632.093</td>\n",
              "    </tr>\n",
              "  </tbody>\n",
              "</table>\n",
              "</div>\n",
              "      <button class=\"colab-df-convert\" onclick=\"convertToInteractive('df-c8b7c24f-01fe-4103-a33e-3ae5c58f717d')\"\n",
              "              title=\"Convert this dataframe to an interactive table.\"\n",
              "              style=\"display:none;\">\n",
              "        \n",
              "  <svg xmlns=\"http://www.w3.org/2000/svg\" height=\"24px\"viewBox=\"0 0 24 24\"\n",
              "       width=\"24px\">\n",
              "    <path d=\"M0 0h24v24H0V0z\" fill=\"none\"/>\n",
              "    <path d=\"M18.56 5.44l.94 2.06.94-2.06 2.06-.94-2.06-.94-.94-2.06-.94 2.06-2.06.94zm-11 1L8.5 8.5l.94-2.06 2.06-.94-2.06-.94L8.5 2.5l-.94 2.06-2.06.94zm10 10l.94 2.06.94-2.06 2.06-.94-2.06-.94-.94-2.06-.94 2.06-2.06.94z\"/><path d=\"M17.41 7.96l-1.37-1.37c-.4-.4-.92-.59-1.43-.59-.52 0-1.04.2-1.43.59L10.3 9.45l-7.72 7.72c-.78.78-.78 2.05 0 2.83L4 21.41c.39.39.9.59 1.41.59.51 0 1.02-.2 1.41-.59l7.78-7.78 2.81-2.81c.8-.78.8-2.07 0-2.86zM5.41 20L4 18.59l7.72-7.72 1.47 1.35L5.41 20z\"/>\n",
              "  </svg>\n",
              "      </button>\n",
              "      \n",
              "  <style>\n",
              "    .colab-df-container {\n",
              "      display:flex;\n",
              "      flex-wrap:wrap;\n",
              "      gap: 12px;\n",
              "    }\n",
              "\n",
              "    .colab-df-convert {\n",
              "      background-color: #E8F0FE;\n",
              "      border: none;\n",
              "      border-radius: 50%;\n",
              "      cursor: pointer;\n",
              "      display: none;\n",
              "      fill: #1967D2;\n",
              "      height: 32px;\n",
              "      padding: 0 0 0 0;\n",
              "      width: 32px;\n",
              "    }\n",
              "\n",
              "    .colab-df-convert:hover {\n",
              "      background-color: #E2EBFA;\n",
              "      box-shadow: 0px 1px 2px rgba(60, 64, 67, 0.3), 0px 1px 3px 1px rgba(60, 64, 67, 0.15);\n",
              "      fill: #174EA6;\n",
              "    }\n",
              "\n",
              "    [theme=dark] .colab-df-convert {\n",
              "      background-color: #3B4455;\n",
              "      fill: #D2E3FC;\n",
              "    }\n",
              "\n",
              "    [theme=dark] .colab-df-convert:hover {\n",
              "      background-color: #434B5C;\n",
              "      box-shadow: 0px 1px 3px 1px rgba(0, 0, 0, 0.15);\n",
              "      filter: drop-shadow(0px 1px 2px rgba(0, 0, 0, 0.3));\n",
              "      fill: #FFFFFF;\n",
              "    }\n",
              "  </style>\n",
              "\n",
              "      <script>\n",
              "        const buttonEl =\n",
              "          document.querySelector('#df-c8b7c24f-01fe-4103-a33e-3ae5c58f717d button.colab-df-convert');\n",
              "        buttonEl.style.display =\n",
              "          google.colab.kernel.accessAllowed ? 'block' : 'none';\n",
              "\n",
              "        async function convertToInteractive(key) {\n",
              "          const element = document.querySelector('#df-c8b7c24f-01fe-4103-a33e-3ae5c58f717d');\n",
              "          const dataTable =\n",
              "            await google.colab.kernel.invokeFunction('convertToInteractive',\n",
              "                                                     [key], {});\n",
              "          if (!dataTable) return;\n",
              "\n",
              "          const docLinkHtml = 'Like what you see? Visit the ' +\n",
              "            '<a target=\"_blank\" href=https://colab.research.google.com/notebooks/data_table.ipynb>data table notebook</a>'\n",
              "            + ' to learn more about interactive tables.';\n",
              "          element.innerHTML = '';\n",
              "          dataTable['output_type'] = 'display_data';\n",
              "          await google.colab.output.renderOutput(dataTable, element);\n",
              "          const docLink = document.createElement('div');\n",
              "          docLink.innerHTML = docLinkHtml;\n",
              "          element.appendChild(docLink);\n",
              "        }\n",
              "      </script>\n",
              "    </div>\n",
              "  </div>\n",
              "  "
            ]
          },
          "metadata": {},
          "execution_count": 3
        }
      ]
    },
    {
      "cell_type": "code",
      "source": [
        "#country with the largest representation is (ESP/ITA/DEU/FRA) \n",
        "\n",
        "pisa.CNT.value_counts()"
      ],
      "metadata": {
        "colab": {
          "base_uri": "https://localhost:8080/"
        },
        "id": "gQ2euxLkppx1",
        "outputId": "66beb78f-bdce-4d01-d8ae-6f928736d0ba"
      },
      "execution_count": 4,
      "outputs": [
        {
          "output_type": "execute_result",
          "data": {
            "text/plain": [
              "ESP    20442\n",
              "ITA     7918\n",
              "FRA     3635\n",
              "DEU     1903\n",
              "Name: CNT, dtype: int64"
            ]
          },
          "metadata": {},
          "execution_count": 4
        }
      ]
    },
    {
      "cell_type": "markdown",
      "source": [
        "# Joint Distribution\n",
        "\n",
        "Let's focus on the Spanish students with books at home. Then find the crosstab with relative frequencies between the variables IMM and HmwPC"
      ],
      "metadata": {
        "id": "TPcIuBesMr9S"
      }
    },
    {
      "cell_type": "code",
      "source": [
        "#crosstab with relative frequencies of the binary variables IMM and HmwPC for spanish students with books at home\n",
        "\n",
        "esp_st_with_books = pisa[(pisa['CNT'] =='ESP') & (pisa['Books']== 1)]\n",
        "\n",
        "crosstab = pd.crosstab(esp_st_with_books['IMM'], esp_st_with_books['HmwPC'], normalize = True).round(3)\n",
        "\n",
        "print(crosstab)"
      ],
      "metadata": {
        "colab": {
          "base_uri": "https://localhost:8080/"
        },
        "id": "871E1XEbqcCt",
        "outputId": "08b0e7b0-d679-4ddd-ecfb-c907cb35cf1b"
      },
      "execution_count": 5,
      "outputs": [
        {
          "output_type": "stream",
          "name": "stdout",
          "text": [
            "HmwPC      0      1\n",
            "IMM                \n",
            "0      0.009  0.067\n",
            "1      0.042  0.883\n"
          ]
        }
      ]
    },
    {
      "cell_type": "code",
      "source": [
        "from matplotlib.cm import colors\n",
        "crosstab = pd.crosstab(esp_st_with_books['IMM'], esp_st_with_books['HmwPC'], normalize = True).round(3)\n",
        "\n",
        "# create a clustered bar\n",
        "crosstab.plot(kind='bar', stacked = True, color = (\"green\",'yellow'))\n",
        "\n",
        "# set the axis labels and title\n",
        "plt.xlabel('Exam country (IMM)')\n",
        "plt.ylabel('Frequency')\n",
        "plt.title('Relative Frequencies of Spanish students with books at home')\n",
        "\n",
        "# show the plot\n",
        "plt.show()"
      ],
      "metadata": {
        "colab": {
          "base_uri": "https://localhost:8080/",
          "height": 472
        },
        "id": "izUH7tKkudv9",
        "outputId": "34cc892c-6faf-4375-ab84-399a0c651ac0"
      },
      "execution_count": 8,
      "outputs": [
        {
          "output_type": "display_data",
          "data": {
            "text/plain": [
              "<Figure size 640x480 with 1 Axes>"
            ],
            "image/png": "[encoded data removed]"
          },
          "metadata": {}
        }
      ]
    },
    {
      "cell_type": "markdown",
      "source": [
        "This crosstab shows the joint frequencies of the binary variables HmwPC (student has a computer at home) and IMM (student was born in the same country where he/she took the test) for students in Spain. \n",
        "\n",
        "The values in the table represent the proportion of students who fall into each combination.\n",
        "\n",
        "0.009 for HmwPC = 0 and IMM = 0: This means that 0.9% of the students in the group do not have a computer at home and were not born in the same country where they took the test.\n",
        "\n",
        "0.042 for HmwPC = 0 and IMM = 1: This means that 4.2% of the students in the group do not have a computer at home but were born in the same country where they took the test.\n",
        "\n",
        "0.067 for HmwPC = 1 and IMM = 0: This means that 6.7% of the students in the group have a computer at home but were not born in the same country where they took the test.\n",
        "\n",
        "0.883 for HmwPC = 1 and IMM = 1: This means that 88.3% of the students in the group have a computer at home and were born in the same country where they took the test. \n",
        "\n",
        "Stacked bar chart shows the distribution of each category across the levels of the other variable, and the overall proportion for each variable.\n",
        "\n",
        "The most common type of student are those who took the exam in the same country they were born in and have a computer at home."
      ],
      "metadata": {
        "id": "s6YGtlOVPv3S"
      }
    },
    {
      "cell_type": "markdown",
      "source": [
        "# Study Time\n",
        "\n",
        "Now we want to analyse the distributions of minutes of study per week. For that we are going to consider those students with books at home, with computer at home and who take the exam in the same country the were born in. Now consider German and French students grouped by gender."
      ],
      "metadata": {
        "id": "D4dX7XwYXlp4"
      }
    },
    {
      "cell_type": "code",
      "source": [
        "#Analyzing distributions of the minutes that the students studied weekly (DEU & FRA)\n",
        "\n",
        "#students with books and computers at home who took the exam in the same country they were born in\n",
        "students = pisa[(pisa['Books'] == 1) & (pisa['HmwPC'] ==1) & (pisa['IMM']==1)]\n",
        "\n",
        "# Descriptive\n",
        "des = students.groupby(['CNT', 'Gender'])['LEARNMINWEEK'].describe().loc[['DEU', 'FRA']]\n",
        "des['skewness'] = students.groupby(['CNT', 'Gender'])['LEARNMINWEEK'].skew()\n",
        "des['kurtosis'] = students.groupby(['CNT', 'Gender']).apply(pd.DataFrame.kurt)['LEARNMINWEEK']\n",
        "des"
      ],
      "metadata": {
        "colab": {
          "base_uri": "https://localhost:8080/",
          "height": 503
        },
        "id": "wbfMQq9EyZcO",
        "outputId": "e922083b-f547-4fe3-dbbc-76cc001749f5"
      },
      "execution_count": 10,
      "outputs": [
        {
          "output_type": "stream",
          "name": "stderr",
          "text": [
            "<ipython-input-10-64127def1d56>:10: FutureWarning: The default value of numeric_only in DataFrame.kurt is deprecated. In a future version, it will default to False. In addition, specifying 'numeric_only=None' is deprecated. Select only valid columns or specify the value of numeric_only to silence this warning.\n",
            "  des['kurtosis'] = students.groupby(['CNT', 'Gender']).apply(pd.DataFrame.kurt)['LEARNMINWEEK']\n",
            "<ipython-input-10-64127def1d56>:10: FutureWarning: The default value of numeric_only in DataFrame.kurt is deprecated. In a future version, it will default to False. In addition, specifying 'numeric_only=None' is deprecated. Select only valid columns or specify the value of numeric_only to silence this warning.\n",
            "  des['kurtosis'] = students.groupby(['CNT', 'Gender']).apply(pd.DataFrame.kurt)['LEARNMINWEEK']\n",
            "<ipython-input-10-64127def1d56>:10: FutureWarning: The default value of numeric_only in DataFrame.kurt is deprecated. In a future version, it will default to False. In addition, specifying 'numeric_only=None' is deprecated. Select only valid columns or specify the value of numeric_only to silence this warning.\n",
            "  des['kurtosis'] = students.groupby(['CNT', 'Gender']).apply(pd.DataFrame.kurt)['LEARNMINWEEK']\n",
            "<ipython-input-10-64127def1d56>:10: FutureWarning: The default value of numeric_only in DataFrame.kurt is deprecated. In a future version, it will default to False. In addition, specifying 'numeric_only=None' is deprecated. Select only valid columns or specify the value of numeric_only to silence this warning.\n",
            "  des['kurtosis'] = students.groupby(['CNT', 'Gender']).apply(pd.DataFrame.kurt)['LEARNMINWEEK']\n",
            "<ipython-input-10-64127def1d56>:10: FutureWarning: The default value of numeric_only in DataFrame.kurt is deprecated. In a future version, it will default to False. In addition, specifying 'numeric_only=None' is deprecated. Select only valid columns or specify the value of numeric_only to silence this warning.\n",
            "  des['kurtosis'] = students.groupby(['CNT', 'Gender']).apply(pd.DataFrame.kurt)['LEARNMINWEEK']\n",
            "<ipython-input-10-64127def1d56>:10: FutureWarning: The default value of numeric_only in DataFrame.kurt is deprecated. In a future version, it will default to False. In addition, specifying 'numeric_only=None' is deprecated. Select only valid columns or specify the value of numeric_only to silence this warning.\n",
            "  des['kurtosis'] = students.groupby(['CNT', 'Gender']).apply(pd.DataFrame.kurt)['LEARNMINWEEK']\n",
            "<ipython-input-10-64127def1d56>:10: FutureWarning: The default value of numeric_only in DataFrame.kurt is deprecated. In a future version, it will default to False. In addition, specifying 'numeric_only=None' is deprecated. Select only valid columns or specify the value of numeric_only to silence this warning.\n",
            "  des['kurtosis'] = students.groupby(['CNT', 'Gender']).apply(pd.DataFrame.kurt)['LEARNMINWEEK']\n",
            "<ipython-input-10-64127def1d56>:10: FutureWarning: The default value of numeric_only in DataFrame.kurt is deprecated. In a future version, it will default to False. In addition, specifying 'numeric_only=None' is deprecated. Select only valid columns or specify the value of numeric_only to silence this warning.\n",
            "  des['kurtosis'] = students.groupby(['CNT', 'Gender']).apply(pd.DataFrame.kurt)['LEARNMINWEEK']\n"
          ]
        },
        {
          "output_type": "execute_result",
          "data": {
            "text/plain": [
              "             count         mean         std    min      25%     50%     75%  \\\n",
              "CNT Gender                                                                    \n",
              "DEU 0        771.0  1575.745785  313.879984  440.0  1395.00  1530.0  1620.0   \n",
              "    1        772.0  1587.474093  321.130611  390.0  1395.00  1575.0  1665.0   \n",
              "FRA 0       1322.0  1654.950832  450.473989  100.0  1396.25  1650.0  1925.0   \n",
              "    1       1492.0  1655.566354  459.598684  270.0  1375.00  1650.0  1925.0   \n",
              "\n",
              "               max  skewness  kurtosis  \n",
              "CNT Gender                              \n",
              "DEU 0       3000.0  1.792434  5.932034  \n",
              "    1       3000.0  1.643507  5.721440  \n",
              "FRA 0       3000.0 -0.006184  0.685224  \n",
              "    1       3000.0  0.103762  0.478235  "
            ],
            "text/html": [
              "\n",
              "  <div id=\"df-7db2db75-8e26-48a9-86a1-1bcb3db9ec1c\">\n",
              "    <div class=\"colab-df-container\">\n",
              "      <div>\n",
              "<style scoped>\n",
              "    .dataframe tbody tr th:only-of-type {\n",
              "        vertical-align: middle;\n",
              "    }\n",
              "\n",
              "    .dataframe tbody tr th {\n",
              "        vertical-align: top;\n",
              "    }\n",
              "\n",
              "    .dataframe thead th {\n",
              "        text-align: right;\n",
              "    }\n",
              "</style>\n",
              "<table border=\"1\" class=\"dataframe\">\n",
              "  <thead>\n",
              "    <tr style=\"text-align: right;\">\n",
              "      <th></th>\n",
              "      <th></th>\n",
              "      <th>count</th>\n",
              "      <th>mean</th>\n",
              "      <th>std</th>\n",
              "      <th>min</th>\n",
              "      <th>25%</th>\n",
              "      <th>50%</th>\n",
              "      <th>75%</th>\n",
              "      <th>max</th>\n",
              "      <th>skewness</th>\n",
              "      <th>kurtosis</th>\n",
              "    </tr>\n",
              "    <tr>\n",
              "      <th>CNT</th>\n",
              "      <th>Gender</th>\n",
              "      <th></th>\n",
              "      <th></th>\n",
              "      <th></th>\n",
              "      <th></th>\n",
              "      <th></th>\n",
              "      <th></th>\n",
              "      <th></th>\n",
              "      <th></th>\n",
              "      <th></th>\n",
              "      <th></th>\n",
              "    </tr>\n",
              "  </thead>\n",
              "  <tbody>\n",
              "    <tr>\n",
              "      <th rowspan=\"2\" valign=\"top\">DEU</th>\n",
              "      <th>0</th>\n",
              "      <td>771.0</td>\n",
              "      <td>1575.745785</td>\n",
              "      <td>313.879984</td>\n",
              "      <td>440.0</td>\n",
              "      <td>1395.00</td>\n",
              "      <td>1530.0</td>\n",
              "      <td>1620.0</td>\n",
              "      <td>3000.0</td>\n",
              "      <td>1.792434</td>\n",
              "      <td>5.932034</td>\n",
              "    </tr>\n",
              "    <tr>\n",
              "      <th>1</th>\n",
              "      <td>772.0</td>\n",
              "      <td>1587.474093</td>\n",
              "      <td>321.130611</td>\n",
              "      <td>390.0</td>\n",
              "      <td>1395.00</td>\n",
              "      <td>1575.0</td>\n",
              "      <td>1665.0</td>\n",
              "      <td>3000.0</td>\n",
              "      <td>1.643507</td>\n",
              "      <td>5.721440</td>\n",
              "    </tr>\n",
              "    <tr>\n",
              "      <th rowspan=\"2\" valign=\"top\">FRA</th>\n",
              "      <th>0</th>\n",
              "      <td>1322.0</td>\n",
              "      <td>1654.950832</td>\n",
              "      <td>450.473989</td>\n",
              "      <td>100.0</td>\n",
              "      <td>1396.25</td>\n",
              "      <td>1650.0</td>\n",
              "      <td>1925.0</td>\n",
              "      <td>3000.0</td>\n",
              "      <td>-0.006184</td>\n",
              "      <td>0.685224</td>\n",
              "    </tr>\n",
              "    <tr>\n",
              "      <th>1</th>\n",
              "      <td>1492.0</td>\n",
              "      <td>1655.566354</td>\n",
              "      <td>459.598684</td>\n",
              "      <td>270.0</td>\n",
              "      <td>1375.00</td>\n",
              "      <td>1650.0</td>\n",
              "      <td>1925.0</td>\n",
              "      <td>3000.0</td>\n",
              "      <td>0.103762</td>\n",
              "      <td>0.478235</td>\n",
              "    </tr>\n",
              "  </tbody>\n",
              "</table>\n",
              "</div>\n",
              "      <button class=\"colab-df-convert\" onclick=\"convertToInteractive('df-7db2db75-8e26-48a9-86a1-1bcb3db9ec1c')\"\n",
              "              title=\"Convert this dataframe to an interactive table.\"\n",
              "              style=\"display:none;\">\n",
              "        \n",
              "  <svg xmlns=\"http://www.w3.org/2000/svg\" height=\"24px\"viewBox=\"0 0 24 24\"\n",
              "       width=\"24px\">\n",
              "    <path d=\"M0 0h24v24H0V0z\" fill=\"none\"/>\n",
              "    <path d=\"M18.56 5.44l.94 2.06.94-2.06 2.06-.94-2.06-.94-.94-2.06-.94 2.06-2.06.94zm-11 1L8.5 8.5l.94-2.06 2.06-.94-2.06-.94L8.5 2.5l-.94 2.06-2.06.94zm10 10l.94 2.06.94-2.06 2.06-.94-2.06-.94-.94-2.06-.94 2.06-2.06.94z\"/><path d=\"M17.41 7.96l-1.37-1.37c-.4-.4-.92-.59-1.43-.59-.52 0-1.04.2-1.43.59L10.3 9.45l-7.72 7.72c-.78.78-.78 2.05 0 2.83L4 21.41c.39.39.9.59 1.41.59.51 0 1.02-.2 1.41-.59l7.78-7.78 2.81-2.81c.8-.78.8-2.07 0-2.86zM5.41 20L4 18.59l7.72-7.72 1.47 1.35L5.41 20z\"/>\n",
              "  </svg>\n",
              "      </button>\n",
              "      \n",
              "  <style>\n",
              "    .colab-df-container {\n",
              "      display:flex;\n",
              "      flex-wrap:wrap;\n",
              "      gap: 12px;\n",
              "    }\n",
              "\n",
              "    .colab-df-convert {\n",
              "      background-color: #E8F0FE;\n",
              "      border: none;\n",
              "      border-radius: 50%;\n",
              "      cursor: pointer;\n",
              "      display: none;\n",
              "      fill: #1967D2;\n",
              "      height: 32px;\n",
              "      padding: 0 0 0 0;\n",
              "      width: 32px;\n",
              "    }\n",
              "\n",
              "    .colab-df-convert:hover {\n",
              "      background-color: #E2EBFA;\n",
              "      box-shadow: 0px 1px 2px rgba(60, 64, 67, 0.3), 0px 1px 3px 1px rgba(60, 64, 67, 0.15);\n",
              "      fill: #174EA6;\n",
              "    }\n",
              "\n",
              "    [theme=dark] .colab-df-convert {\n",
              "      background-color: #3B4455;\n",
              "      fill: #D2E3FC;\n",
              "    }\n",
              "\n",
              "    [theme=dark] .colab-df-convert:hover {\n",
              "      background-color: #434B5C;\n",
              "      box-shadow: 0px 1px 3px 1px rgba(0, 0, 0, 0.15);\n",
              "      filter: drop-shadow(0px 1px 2px rgba(0, 0, 0, 0.3));\n",
              "      fill: #FFFFFF;\n",
              "    }\n",
              "  </style>\n",
              "\n",
              "      <script>\n",
              "        const buttonEl =\n",
              "          document.querySelector('#df-7db2db75-8e26-48a9-86a1-1bcb3db9ec1c button.colab-df-convert');\n",
              "        buttonEl.style.display =\n",
              "          google.colab.kernel.accessAllowed ? 'block' : 'none';\n",
              "\n",
              "        async function convertToInteractive(key) {\n",
              "          const element = document.querySelector('#df-7db2db75-8e26-48a9-86a1-1bcb3db9ec1c');\n",
              "          const dataTable =\n",
              "            await google.colab.kernel.invokeFunction('convertToInteractive',\n",
              "                                                     [key], {});\n",
              "          if (!dataTable) return;\n",
              "\n",
              "          const docLinkHtml = 'Like what you see? Visit the ' +\n",
              "            '<a target=\"_blank\" href=https://colab.research.google.com/notebooks/data_table.ipynb>data table notebook</a>'\n",
              "            + ' to learn more about interactive tables.';\n",
              "          element.innerHTML = '';\n",
              "          dataTable['output_type'] = 'display_data';\n",
              "          await google.colab.output.renderOutput(dataTable, element);\n",
              "          const docLink = document.createElement('div');\n",
              "          docLink.innerHTML = docLinkHtml;\n",
              "          element.appendChild(docLink);\n",
              "        }\n",
              "      </script>\n",
              "    </div>\n",
              "  </div>\n",
              "  "
            ]
          },
          "metadata": {},
          "execution_count": 10
        }
      ]
    },
    {
      "cell_type": "code",
      "source": [
        "cv = pd.DataFrame({'cv': des['std']/des['mean']})\n",
        "cv"
      ],
      "metadata": {
        "colab": {
          "base_uri": "https://localhost:8080/",
          "height": 206
        },
        "id": "JuTQDBKyYhFj",
        "outputId": "5281a28d-1c67-486e-92bc-c70da724f92b"
      },
      "execution_count": 13,
      "outputs": [
        {
          "output_type": "execute_result",
          "data": {
            "text/plain": [
              "                  cv\n",
              "CNT Gender          \n",
              "DEU 0       0.199195\n",
              "    1       0.202290\n",
              "FRA 0       0.272198\n",
              "    1       0.277608"
            ],
            "text/html": [
              "\n",
              "  <div id=\"df-35a94441-72d7-4eb6-89fe-38313ff0ab64\">\n",
              "    <div class=\"colab-df-container\">\n",
              "      <div>\n",
              "<style scoped>\n",
              "    .dataframe tbody tr th:only-of-type {\n",
              "        vertical-align: middle;\n",
              "    }\n",
              "\n",
              "    .dataframe tbody tr th {\n",
              "        vertical-align: top;\n",
              "    }\n",
              "\n",
              "    .dataframe thead th {\n",
              "        text-align: right;\n",
              "    }\n",
              "</style>\n",
              "<table border=\"1\" class=\"dataframe\">\n",
              "  <thead>\n",
              "    <tr style=\"text-align: right;\">\n",
              "      <th></th>\n",
              "      <th></th>\n",
              "      <th>cv</th>\n",
              "    </tr>\n",
              "    <tr>\n",
              "      <th>CNT</th>\n",
              "      <th>Gender</th>\n",
              "      <th></th>\n",
              "    </tr>\n",
              "  </thead>\n",
              "  <tbody>\n",
              "    <tr>\n",
              "      <th rowspan=\"2\" valign=\"top\">DEU</th>\n",
              "      <th>0</th>\n",
              "      <td>0.199195</td>\n",
              "    </tr>\n",
              "    <tr>\n",
              "      <th>1</th>\n",
              "      <td>0.202290</td>\n",
              "    </tr>\n",
              "    <tr>\n",
              "      <th rowspan=\"2\" valign=\"top\">FRA</th>\n",
              "      <th>0</th>\n",
              "      <td>0.272198</td>\n",
              "    </tr>\n",
              "    <tr>\n",
              "      <th>1</th>\n",
              "      <td>0.277608</td>\n",
              "    </tr>\n",
              "  </tbody>\n",
              "</table>\n",
              "</div>\n",
              "      <button class=\"colab-df-convert\" onclick=\"convertToInteractive('df-35a94441-72d7-4eb6-89fe-38313ff0ab64')\"\n",
              "              title=\"Convert this dataframe to an interactive table.\"\n",
              "              style=\"display:none;\">\n",
              "        \n",
              "  <svg xmlns=\"http://www.w3.org/2000/svg\" height=\"24px\"viewBox=\"0 0 24 24\"\n",
              "       width=\"24px\">\n",
              "    <path d=\"M0 0h24v24H0V0z\" fill=\"none\"/>\n",
              "    <path d=\"M18.56 5.44l.94 2.06.94-2.06 2.06-.94-2.06-.94-.94-2.06-.94 2.06-2.06.94zm-11 1L8.5 8.5l.94-2.06 2.06-.94-2.06-.94L8.5 2.5l-.94 2.06-2.06.94zm10 10l.94 2.06.94-2.06 2.06-.94-2.06-.94-.94-2.06-.94 2.06-2.06.94z\"/><path d=\"M17.41 7.96l-1.37-1.37c-.4-.4-.92-.59-1.43-.59-.52 0-1.04.2-1.43.59L10.3 9.45l-7.72 7.72c-.78.78-.78 2.05 0 2.83L4 21.41c.39.39.9.59 1.41.59.51 0 1.02-.2 1.41-.59l7.78-7.78 2.81-2.81c.8-.78.8-2.07 0-2.86zM5.41 20L4 18.59l7.72-7.72 1.47 1.35L5.41 20z\"/>\n",
              "  </svg>\n",
              "      </button>\n",
              "      \n",
              "  <style>\n",
              "    .colab-df-container {\n",
              "      display:flex;\n",
              "      flex-wrap:wrap;\n",
              "      gap: 12px;\n",
              "    }\n",
              "\n",
              "    .colab-df-convert {\n",
              "      background-color: #E8F0FE;\n",
              "      border: none;\n",
              "      border-radius: 50%;\n",
              "      cursor: pointer;\n",
              "      display: none;\n",
              "      fill: #1967D2;\n",
              "      height: 32px;\n",
              "      padding: 0 0 0 0;\n",
              "      width: 32px;\n",
              "    }\n",
              "\n",
              "    .colab-df-convert:hover {\n",
              "      background-color: #E2EBFA;\n",
              "      box-shadow: 0px 1px 2px rgba(60, 64, 67, 0.3), 0px 1px 3px 1px rgba(60, 64, 67, 0.15);\n",
              "      fill: #174EA6;\n",
              "    }\n",
              "\n",
              "    [theme=dark] .colab-df-convert {\n",
              "      background-color: #3B4455;\n",
              "      fill: #D2E3FC;\n",
              "    }\n",
              "\n",
              "    [theme=dark] .colab-df-convert:hover {\n",
              "      background-color: #434B5C;\n",
              "      box-shadow: 0px 1px 3px 1px rgba(0, 0, 0, 0.15);\n",
              "      filter: drop-shadow(0px 1px 2px rgba(0, 0, 0, 0.3));\n",
              "      fill: #FFFFFF;\n",
              "    }\n",
              "  </style>\n",
              "\n",
              "      <script>\n",
              "        const buttonEl =\n",
              "          document.querySelector('#df-35a94441-72d7-4eb6-89fe-38313ff0ab64 button.colab-df-convert');\n",
              "        buttonEl.style.display =\n",
              "          google.colab.kernel.accessAllowed ? 'block' : 'none';\n",
              "\n",
              "        async function convertToInteractive(key) {\n",
              "          const element = document.querySelector('#df-35a94441-72d7-4eb6-89fe-38313ff0ab64');\n",
              "          const dataTable =\n",
              "            await google.colab.kernel.invokeFunction('convertToInteractive',\n",
              "                                                     [key], {});\n",
              "          if (!dataTable) return;\n",
              "\n",
              "          const docLinkHtml = 'Like what you see? Visit the ' +\n",
              "            '<a target=\"_blank\" href=https://colab.research.google.com/notebooks/data_table.ipynb>data table notebook</a>'\n",
              "            + ' to learn more about interactive tables.';\n",
              "          element.innerHTML = '';\n",
              "          dataTable['output_type'] = 'display_data';\n",
              "          await google.colab.output.renderOutput(dataTable, element);\n",
              "          const docLink = document.createElement('div');\n",
              "          docLink.innerHTML = docLinkHtml;\n",
              "          element.appendChild(docLink);\n",
              "        }\n",
              "      </script>\n",
              "    </div>\n",
              "  </div>\n",
              "  "
            ]
          },
          "metadata": {},
          "execution_count": 13
        }
      ]
    },
    {
      "cell_type": "markdown",
      "source": [
        "The population with the largest variability is that of French Females, then let's represent its histogram and boxplot"
      ],
      "metadata": {
        "id": "J2TXPA4DY6f9"
      }
    },
    {
      "cell_type": "code",
      "source": [
        "plt.figure(figsize = (15,5))\n",
        "\n",
        "plt.suptitle('French Females', fontsize = 17)\n",
        "plt.subplot(1,2,1)\n",
        "plt.hist(students[(students['Gender'] == 1) & (students['CNT'] == 'FRA')]['LEARNMINWEEK'],\n",
        "         bins = 'sturges',\n",
        "         color = 'navajowhite',\n",
        "         ec = 'orangered')\n",
        "plt.xlabel('Minutes per Week', fontsize = 15)\n",
        "plt.ylabel('Frequency', fontsize = 15)\n",
        "plt.subplot(1,2,2)\n",
        "plt.boxplot(students[(students['Gender'] == 1) & (students['CNT'] == 'FRA')]['LEARNMINWEEK'],\n",
        "            widths = 0.6,\n",
        "            showmeans = True,\n",
        "            patch_artist = True,\n",
        "            boxprops = {'facecolor': 'navajowhite',\n",
        "                        'color': 'orangered'},\n",
        "            flierprops = {'marker': 'o',\n",
        "                          'markerfacecolor': 'red'},\n",
        "            labels = [''])\n",
        "plt.plot(np.random.normal(1, 0.02, size=students[(students['Gender'] == 1) & (students['CNT'] == 'FRA')]['LEARNMINWEEK'].shape[0]), \n",
        "         students[(students['Gender'] == 1) & (students['CNT'] == 'FRA')]['LEARNMINWEEK'], \n",
        "         'r.', alpha=0.6, markersize = 4,\n",
        "         color = 'darkred',\n",
        "         zorder = 10)\n",
        "\n",
        "plt.tight_layout(rect = (0,0,0.9,0.9))\n",
        "plt.show()"
      ],
      "metadata": {
        "colab": {
          "base_uri": "https://localhost:8080/",
          "height": 559
        },
        "id": "9iAVj3wU_w8j",
        "outputId": "c944a471-23b8-4da1-e41f-a4c12a55cc41"
      },
      "execution_count": 15,
      "outputs": [
        {
          "output_type": "stream",
          "name": "stderr",
          "text": [
            "<ipython-input-15-55f933e6d2ff>:21: UserWarning: color is redundantly defined by the 'color' keyword argument and the fmt string \"r.\" (-> color='r'). The keyword argument will take precedence.\n",
            "  plt.plot(np.random.normal(1, 0.02, size=students[(students['Gender'] == 1) & (students['CNT'] == 'FRA')]['LEARNMINWEEK'].shape[0]),\n"
          ]
        },
        {
          "output_type": "display_data",
          "data": {
            "text/plain": [
              "<Figure size 1500x500 with 2 Axes>"
            ],
            "image/png": "[encoded data removed]"
          },
          "metadata": {}
        }
      ]
    },
    {
      "cell_type": "markdown",
      "source": [
        "From the histogram, we can see that the distribution is symmetric because the skewness value (0.104) is very close to zero and this is refected in the fact that both, mean and median are very close, on the other hand we see a number of outliers."
      ],
      "metadata": {
        "id": "UlNMsfVsJPrs"
      }
    },
    {
      "cell_type": "code",
      "source": [
        "ff_IQR = des.loc['FRA','75%'][1] - des.loc['FRA','25%'][1]\n",
        "upper_tuk = des.loc['FRA','75%'][1] + 1.5*ff_IQR\n",
        "lower_tuk = des.loc['FRA','25%'][1] - 1.5*ff_IQR\n",
        "\n",
        "n_outliers = students[(students['Gender'] == 1) & (students['CNT'] == 'FRA') & ((students['LEARNMINWEEK'] > upper_tuk) | (students['LEARNMINWEEK'] < lower_tuk))].shape[0]\n",
        "n = students[(students['Gender'] == 1) & (students['CNT'] == 'FRA')].shape[0]\n",
        "\n",
        "print(f'The number of outliers is {n_outliers:2d} out of {n:4d} students')"
      ],
      "metadata": {
        "colab": {
          "base_uri": "https://localhost:8080/"
        },
        "id": "MYfCDLQqbSuR",
        "outputId": "676ab1d9-b1f4-48ab-9a1e-20a43186f8ae"
      },
      "execution_count": 16,
      "outputs": [
        {
          "output_type": "stream",
          "name": "stdout",
          "text": [
            "The number of outliers is 31 out of 1492 students\n"
          ]
        }
      ]
    },
    {
      "cell_type": "markdown",
      "metadata": {
        "id": "5H5hwtJOqoa_"
      },
      "source": [
        "---\n",
        "\n",
        "### <font color = \"darkgreen\"> Parents Support </font>\n",
        "\n",
        "Let's focus now in understanding the effect of the parents support in the grades of the students. For that choose from the same subset as in the last question the German students."
      ]
    },
    {
      "cell_type": "code",
      "source": [
        "sns.regplot(x = 'EMOSUPS',\n",
        "           y = 'PV10MATH',\n",
        "           data = students[students['CNT'] == 'DEU'],\n",
        "           scatter_kws = {'color' : 'orangered', 'alpha': 0.5},\n",
        "           line_kws = {'color': 'darkred'})\n",
        "plt.xlabel('Emotional Support', fontsize = 13)\n",
        "plt.ylabel('Math Grade', fontsize = 13)\n",
        "plt.show()"
      ],
      "metadata": {
        "colab": {
          "base_uri": "https://localhost:8080/",
          "height": 453
        },
        "id": "bwHQTlm0GaqM",
        "outputId": "9b013748-7bd1-4598-8738-a1b8f7a09f66"
      },
      "execution_count": 17,
      "outputs": [
        {
          "output_type": "display_data",
          "data": {
            "text/plain": [
              "<Figure size 640x480 with 1 Axes>"
            ],
            "image/png": "[encoded data removed]"
          },
          "metadata": {}
        }
      ]
    },
    {
      "cell_type": "code",
      "source": [
        "# covariance and of the square of the linear correlation coefficient of the parents support and the grades in mathematics of the German students\n",
        "students[students['CNT'] == 'DEU'][['EMOSUPS', 'PV10MATH']].cov()"
      ],
      "metadata": {
        "colab": {
          "base_uri": "https://localhost:8080/",
          "height": 112
        },
        "id": "umY8G1ZtT7uX",
        "outputId": "59b572a8-c6ec-4e83-95b7-13ca89fc98cd"
      },
      "execution_count": 19,
      "outputs": [
        {
          "output_type": "execute_result",
          "data": {
            "text/plain": [
              "           EMOSUPS     PV10MATH\n",
              "EMOSUPS   0.915982     0.978886\n",
              "PV10MATH  0.978886  7447.527464"
            ],
            "text/html": [
              "\n",
              "  <div id=\"df-b96e74c0-bf00-4dd5-9b49-582ffe4b831c\">\n",
              "    <div class=\"colab-df-container\">\n",
              "      <div>\n",
              "<style scoped>\n",
              "    .dataframe tbody tr th:only-of-type {\n",
              "        vertical-align: middle;\n",
              "    }\n",
              "\n",
              "    .dataframe tbody tr th {\n",
              "        vertical-align: top;\n",
              "    }\n",
              "\n",
              "    .dataframe thead th {\n",
              "        text-align: right;\n",
              "    }\n",
              "</style>\n",
              "<table border=\"1\" class=\"dataframe\">\n",
              "  <thead>\n",
              "    <tr style=\"text-align: right;\">\n",
              "      <th></th>\n",
              "      <th>EMOSUPS</th>\n",
              "      <th>PV10MATH</th>\n",
              "    </tr>\n",
              "  </thead>\n",
              "  <tbody>\n",
              "    <tr>\n",
              "      <th>EMOSUPS</th>\n",
              "      <td>0.915982</td>\n",
              "      <td>0.978886</td>\n",
              "    </tr>\n",
              "    <tr>\n",
              "      <th>PV10MATH</th>\n",
              "      <td>0.978886</td>\n",
              "      <td>7447.527464</td>\n",
              "    </tr>\n",
              "  </tbody>\n",
              "</table>\n",
              "</div>\n",
              "      <button class=\"colab-df-convert\" onclick=\"convertToInteractive('df-b96e74c0-bf00-4dd5-9b49-582ffe4b831c')\"\n",
              "              title=\"Convert this dataframe to an interactive table.\"\n",
              "              style=\"display:none;\">\n",
              "        \n",
              "  <svg xmlns=\"http://www.w3.org/2000/svg\" height=\"24px\"viewBox=\"0 0 24 24\"\n",
              "       width=\"24px\">\n",
              "    <path d=\"M0 0h24v24H0V0z\" fill=\"none\"/>\n",
              "    <path d=\"M18.56 5.44l.94 2.06.94-2.06 2.06-.94-2.06-.94-.94-2.06-.94 2.06-2.06.94zm-11 1L8.5 8.5l.94-2.06 2.06-.94-2.06-.94L8.5 2.5l-.94 2.06-2.06.94zm10 10l.94 2.06.94-2.06 2.06-.94-2.06-.94-.94-2.06-.94 2.06-2.06.94z\"/><path d=\"M17.41 7.96l-1.37-1.37c-.4-.4-.92-.59-1.43-.59-.52 0-1.04.2-1.43.59L10.3 9.45l-7.72 7.72c-.78.78-.78 2.05 0 2.83L4 21.41c.39.39.9.59 1.41.59.51 0 1.02-.2 1.41-.59l7.78-7.78 2.81-2.81c.8-.78.8-2.07 0-2.86zM5.41 20L4 18.59l7.72-7.72 1.47 1.35L5.41 20z\"/>\n",
              "  </svg>\n",
              "      </button>\n",
              "      \n",
              "  <style>\n",
              "    .colab-df-container {\n",
              "      display:flex;\n",
              "      flex-wrap:wrap;\n",
              "      gap: 12px;\n",
              "    }\n",
              "\n",
              "    .colab-df-convert {\n",
              "      background-color: #E8F0FE;\n",
              "      border: none;\n",
              "      border-radius: 50%;\n",
              "      cursor: pointer;\n",
              "      display: none;\n",
              "      fill: #1967D2;\n",
              "      height: 32px;\n",
              "      padding: 0 0 0 0;\n",
              "      width: 32px;\n",
              "    }\n",
              "\n",
              "    .colab-df-convert:hover {\n",
              "      background-color: #E2EBFA;\n",
              "      box-shadow: 0px 1px 2px rgba(60, 64, 67, 0.3), 0px 1px 3px 1px rgba(60, 64, 67, 0.15);\n",
              "      fill: #174EA6;\n",
              "    }\n",
              "\n",
              "    [theme=dark] .colab-df-convert {\n",
              "      background-color: #3B4455;\n",
              "      fill: #D2E3FC;\n",
              "    }\n",
              "\n",
              "    [theme=dark] .colab-df-convert:hover {\n",
              "      background-color: #434B5C;\n",
              "      box-shadow: 0px 1px 3px 1px rgba(0, 0, 0, 0.15);\n",
              "      filter: drop-shadow(0px 1px 2px rgba(0, 0, 0, 0.3));\n",
              "      fill: #FFFFFF;\n",
              "    }\n",
              "  </style>\n",
              "\n",
              "      <script>\n",
              "        const buttonEl =\n",
              "          document.querySelector('#df-b96e74c0-bf00-4dd5-9b49-582ffe4b831c button.colab-df-convert');\n",
              "        buttonEl.style.display =\n",
              "          google.colab.kernel.accessAllowed ? 'block' : 'none';\n",
              "\n",
              "        async function convertToInteractive(key) {\n",
              "          const element = document.querySelector('#df-b96e74c0-bf00-4dd5-9b49-582ffe4b831c');\n",
              "          const dataTable =\n",
              "            await google.colab.kernel.invokeFunction('convertToInteractive',\n",
              "                                                     [key], {});\n",
              "          if (!dataTable) return;\n",
              "\n",
              "          const docLinkHtml = 'Like what you see? Visit the ' +\n",
              "            '<a target=\"_blank\" href=https://colab.research.google.com/notebooks/data_table.ipynb>data table notebook</a>'\n",
              "            + ' to learn more about interactive tables.';\n",
              "          element.innerHTML = '';\n",
              "          dataTable['output_type'] = 'display_data';\n",
              "          await google.colab.output.renderOutput(dataTable, element);\n",
              "          const docLink = document.createElement('div');\n",
              "          docLink.innerHTML = docLinkHtml;\n",
              "          element.appendChild(docLink);\n",
              "        }\n",
              "      </script>\n",
              "    </div>\n",
              "  </div>\n",
              "  "
            ]
          },
          "metadata": {},
          "execution_count": 19
        }
      ]
    },
    {
      "cell_type": "code",
      "source": [
        "#the square of the linear correlation coefficient\n",
        "students[students['CNT'] == 'DEU'][['EMOSUPS', 'PV10MATH']].corr()**2"
      ],
      "metadata": {
        "colab": {
          "base_uri": "https://localhost:8080/",
          "height": 112
        },
        "id": "JY20eiuc-uGw",
        "outputId": "f1eb314e-26f2-40c2-a5a4-aca4d992303d"
      },
      "execution_count": 20,
      "outputs": [
        {
          "output_type": "execute_result",
          "data": {
            "text/plain": [
              "          EMOSUPS  PV10MATH\n",
              "EMOSUPS   1.00000   0.00014\n",
              "PV10MATH  0.00014   1.00000"
            ],
            "text/html": [
              "\n",
              "  <div id=\"df-81289c8f-7c62-4eb9-b828-03248861cb4e\">\n",
              "    <div class=\"colab-df-container\">\n",
              "      <div>\n",
              "<style scoped>\n",
              "    .dataframe tbody tr th:only-of-type {\n",
              "        vertical-align: middle;\n",
              "    }\n",
              "\n",
              "    .dataframe tbody tr th {\n",
              "        vertical-align: top;\n",
              "    }\n",
              "\n",
              "    .dataframe thead th {\n",
              "        text-align: right;\n",
              "    }\n",
              "</style>\n",
              "<table border=\"1\" class=\"dataframe\">\n",
              "  <thead>\n",
              "    <tr style=\"text-align: right;\">\n",
              "      <th></th>\n",
              "      <th>EMOSUPS</th>\n",
              "      <th>PV10MATH</th>\n",
              "    </tr>\n",
              "  </thead>\n",
              "  <tbody>\n",
              "    <tr>\n",
              "      <th>EMOSUPS</th>\n",
              "      <td>1.00000</td>\n",
              "      <td>0.00014</td>\n",
              "    </tr>\n",
              "    <tr>\n",
              "      <th>PV10MATH</th>\n",
              "      <td>0.00014</td>\n",
              "      <td>1.00000</td>\n",
              "    </tr>\n",
              "  </tbody>\n",
              "</table>\n",
              "</div>\n",
              "      <button class=\"colab-df-convert\" onclick=\"convertToInteractive('df-81289c8f-7c62-4eb9-b828-03248861cb4e')\"\n",
              "              title=\"Convert this dataframe to an interactive table.\"\n",
              "              style=\"display:none;\">\n",
              "        \n",
              "  <svg xmlns=\"http://www.w3.org/2000/svg\" height=\"24px\"viewBox=\"0 0 24 24\"\n",
              "       width=\"24px\">\n",
              "    <path d=\"M0 0h24v24H0V0z\" fill=\"none\"/>\n",
              "    <path d=\"M18.56 5.44l.94 2.06.94-2.06 2.06-.94-2.06-.94-.94-2.06-.94 2.06-2.06.94zm-11 1L8.5 8.5l.94-2.06 2.06-.94-2.06-.94L8.5 2.5l-.94 2.06-2.06.94zm10 10l.94 2.06.94-2.06 2.06-.94-2.06-.94-.94-2.06-.94 2.06-2.06.94z\"/><path d=\"M17.41 7.96l-1.37-1.37c-.4-.4-.92-.59-1.43-.59-.52 0-1.04.2-1.43.59L10.3 9.45l-7.72 7.72c-.78.78-.78 2.05 0 2.83L4 21.41c.39.39.9.59 1.41.59.51 0 1.02-.2 1.41-.59l7.78-7.78 2.81-2.81c.8-.78.8-2.07 0-2.86zM5.41 20L4 18.59l7.72-7.72 1.47 1.35L5.41 20z\"/>\n",
              "  </svg>\n",
              "      </button>\n",
              "      \n",
              "  <style>\n",
              "    .colab-df-container {\n",
              "      display:flex;\n",
              "      flex-wrap:wrap;\n",
              "      gap: 12px;\n",
              "    }\n",
              "\n",
              "    .colab-df-convert {\n",
              "      background-color: #E8F0FE;\n",
              "      border: none;\n",
              "      border-radius: 50%;\n",
              "      cursor: pointer;\n",
              "      display: none;\n",
              "      fill: #1967D2;\n",
              "      height: 32px;\n",
              "      padding: 0 0 0 0;\n",
              "      width: 32px;\n",
              "    }\n",
              "\n",
              "    .colab-df-convert:hover {\n",
              "      background-color: #E2EBFA;\n",
              "      box-shadow: 0px 1px 2px rgba(60, 64, 67, 0.3), 0px 1px 3px 1px rgba(60, 64, 67, 0.15);\n",
              "      fill: #174EA6;\n",
              "    }\n",
              "\n",
              "    [theme=dark] .colab-df-convert {\n",
              "      background-color: #3B4455;\n",
              "      fill: #D2E3FC;\n",
              "    }\n",
              "\n",
              "    [theme=dark] .colab-df-convert:hover {\n",
              "      background-color: #434B5C;\n",
              "      box-shadow: 0px 1px 3px 1px rgba(0, 0, 0, 0.15);\n",
              "      filter: drop-shadow(0px 1px 2px rgba(0, 0, 0, 0.3));\n",
              "      fill: #FFFFFF;\n",
              "    }\n",
              "  </style>\n",
              "\n",
              "      <script>\n",
              "        const buttonEl =\n",
              "          document.querySelector('#df-81289c8f-7c62-4eb9-b828-03248861cb4e button.colab-df-convert');\n",
              "        buttonEl.style.display =\n",
              "          google.colab.kernel.accessAllowed ? 'block' : 'none';\n",
              "\n",
              "        async function convertToInteractive(key) {\n",
              "          const element = document.querySelector('#df-81289c8f-7c62-4eb9-b828-03248861cb4e');\n",
              "          const dataTable =\n",
              "            await google.colab.kernel.invokeFunction('convertToInteractive',\n",
              "                                                     [key], {});\n",
              "          if (!dataTable) return;\n",
              "\n",
              "          const docLinkHtml = 'Like what you see? Visit the ' +\n",
              "            '<a target=\"_blank\" href=https://colab.research.google.com/notebooks/data_table.ipynb>data table notebook</a>'\n",
              "            + ' to learn more about interactive tables.';\n",
              "          element.innerHTML = '';\n",
              "          dataTable['output_type'] = 'display_data';\n",
              "          await google.colab.output.renderOutput(dataTable, element);\n",
              "          const docLink = document.createElement('div');\n",
              "          docLink.innerHTML = docLinkHtml;\n",
              "          element.appendChild(docLink);\n",
              "        }\n",
              "      </script>\n",
              "    </div>\n",
              "  </div>\n",
              "  "
            ]
          },
          "metadata": {},
          "execution_count": 20
        }
      ]
    },
    {
      "cell_type": "markdown",
      "source": [
        "Association: covariance ( ≈0.98 ) implies that there exists some kind of positive linear dependendence between the variables, i.e. when the emotional support increases, the grade in math increases too. \n",
        "\n",
        "Correlation: we use linear correlation coefficient square to determine the strength of the association. In this case, the magnitude is 0.00014, which implies that we can explain the 0.014% of the variability in the grades of math by just using the emotional support. This is the same as saying that the emotional support does not have any impact on the grades. This may imply that there exists some kind of non-linear dependence between the variables, but given the scatterplot we see that, in fact, there is no dependence."
      ],
      "metadata": {
        "id": "e9XtjB0BDYlQ"
      }
    },
    {
      "cell_type": "markdown",
      "source": [
        "# Probability\n",
        "Suppose that we select randomly one student from our sample. then:\n",
        "\n",
        "The probability that she is Spanish, with books and computer at home, took the exam in the same country whe was born in and is female is...\n",
        "Among the Spanish students with books and computers at home, find if the probability that they obtained a high grade in mathematics is independent of taking the exam in the same country they were born in"
      ],
      "metadata": {
        "id": "lA1-XjQzLEgP"
      }
    },
    {
      "cell_type": "code",
      "source": [
        "# The probability of picking a Spanish female with books and computer at home and took the exam in the same country she was born in is (in percentage with two decimal numbers) from our sample\n",
        "\n",
        "#Only Spanish female students with books and a computer at home who took the exam in the same country they were born in\n",
        "spanish_f = pisa[(pisa['CNT'] == 'ESP') & (pisa['Gender'] == 1) & (pisa['Books'] == 1) & (pisa['HmwPC'] == 1) & (pisa['IMM'] == 1)]\n",
        "\n",
        "# Calculate the probability\n",
        "prob = len(spanish_f) / len(pisa)\n",
        "\n",
        "# Round the probability to two decimal places\n",
        "prob_rounded = round(prob * 100,2)\n",
        "\n",
        "print(prob_rounded)"
      ],
      "metadata": {
        "colab": {
          "base_uri": "https://localhost:8080/"
        },
        "id": "E2bmL8GP_6hJ",
        "outputId": "3c2b3a28-bf1d-48d5-dd21-0b8d9b546d83"
      },
      "execution_count": null,
      "outputs": [
        {
          "output_type": "stream",
          "name": "stdout",
          "text": [
            "21.21\n"
          ]
        }
      ]
    },
    {
      "cell_type": "code",
      "source": [
        "'''\n",
        "Among the Spanish students with books and computers at home, the probability that they obtained a high grade in mathematics \n",
        "is independent of taking the exam in the same country they were born in (two decimal numbers in percentage)\n",
        "'''\n",
        "\n",
        "#Only Spanish students with books and a computer at home who took the exam in the same country they were born in\n",
        "ESP_stud_IMM1 = pisa[(pisa['CNT'] == 'ESP') & (pisa['Books'] == 1) & (pisa['HmwPC'] == 1) & (pisa['IMM'] == 1)]\n",
        "\n",
        "#Only Spanish students with books and a computer at home \n",
        "ESP_stud = pisa[(pisa['CNT'] == 'ESP') & (pisa['Books'] == 1) & (pisa['HmwPC'] == 1)]\n",
        "\n",
        "# Calculating mean and std for Spanish students\n",
        "mean_ESP = ESP_stud['PV10MATH'].mean()\n",
        "std_ESP = ESP_stud['PV10MATH'].std()\n",
        "\n",
        "#number of students who obtained a high grade in mathematics\n",
        "high_gr=len(ESP_stud[ESP_stud['PV10MATH'] > mean_ESP + std_ESP])\n",
        "\n",
        "# Calculate the probability of high grades for Spanish students with books and computers at home P(high) (A)\n",
        "prob_high_ESP = (high_gr / len(ESP_stud))*100\n",
        "print(f'The probability of high grades for Spanish students with books and computers at home is {prob_high_ESP:4.2f}')\n",
        "\n",
        "#number of students who obtained a high grade in mathematics and were born and had exam in spain \n",
        "high_gr_IMM1=len(ESP_stud_IMM1[ESP_stud_IMM1['PV10MATH'] > mean_ESP + std_ESP])\n",
        "\n",
        "#The probability of high grades for Spanish students with books and computers at home and exam in spain P(high|IMM=1) (B)\n",
        "B = (high_gr_IMM1 / len(ESP_stud_IMM1)) * 100\n",
        "print(f'The probability of high grades for Spanish students with books and computers at home and exam in spain is {B:4.2f}')\n"
      ],
      "metadata": {
        "colab": {
          "base_uri": "https://localhost:8080/"
        },
        "id": "UAV5q995cSck",
        "outputId": "5e7ed0ac-86b1-4996-b875-4fc5a3dc7d57"
      },
      "execution_count": null,
      "outputs": [
        {
          "output_type": "stream",
          "name": "stdout",
          "text": [
            "The probability of high grades for Spanish students with books and computers at home is 15.40\n",
            "The probability of high grades for Spanish students with books and computers at home and exam in spain is 16.07\n"
          ]
        }
      ]
    }
  ]
}